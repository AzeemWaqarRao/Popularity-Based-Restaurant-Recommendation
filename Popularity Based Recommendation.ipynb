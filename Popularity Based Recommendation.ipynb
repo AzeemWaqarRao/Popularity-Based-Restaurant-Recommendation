{
 "cells": [
  {
   "cell_type": "markdown",
   "id": "e754bf0a",
   "metadata": {},
   "source": [
    "# Restaurant Recommendation System "
   ]
  },
  {
   "cell_type": "markdown",
   "id": "150d95a2",
   "metadata": {},
   "source": [
    "## Popularity Based Recommendation"
   ]
  },
  {
   "cell_type": "markdown",
   "id": "d1a0cd77",
   "metadata": {},
   "source": [
    "### Importing Libraries"
   ]
  },
  {
   "cell_type": "code",
   "execution_count": 2,
   "id": "d703ce38",
   "metadata": {},
   "outputs": [
    {
     "name": "stderr",
     "output_type": "stream",
     "text": [
      "C:\\Users\\ssc\\anaconda3\\lib\\site-packages\\numpy\\_distributor_init.py:30: UserWarning: loaded more than 1 DLL from .libs:\n",
      "C:\\Users\\ssc\\anaconda3\\lib\\site-packages\\numpy\\.libs\\libopenblas.WCDJNK7YVMPZQ2ME2ZZHJJRJ3JIKNDB7.gfortran-win_amd64.dll\n",
      "C:\\Users\\ssc\\anaconda3\\lib\\site-packages\\numpy\\.libs\\libopenblas64__v0.3.21-gcc_10_3_0.dll\n",
      "  warnings.warn(\"loaded more than 1 DLL from .libs:\"\n"
     ]
    }
   ],
   "source": [
    "import pandas as pd\n",
    "import numpy as np"
   ]
  },
  {
   "cell_type": "markdown",
   "id": "adb5c226",
   "metadata": {},
   "source": [
    "### Importing Data"
   ]
  },
  {
   "cell_type": "code",
   "execution_count": 3,
   "id": "2c9e528b",
   "metadata": {},
   "outputs": [],
   "source": [
    "ratings = pd.read_csv('rating_final.csv')\n",
    "cuisine = pd.read_csv('chefmozcuisine.csv')"
   ]
  },
  {
   "cell_type": "code",
   "execution_count": 4,
   "id": "daca0c1c",
   "metadata": {},
   "outputs": [
    {
     "data": {
      "text/html": [
       "<div>\n",
       "<style scoped>\n",
       "    .dataframe tbody tr th:only-of-type {\n",
       "        vertical-align: middle;\n",
       "    }\n",
       "\n",
       "    .dataframe tbody tr th {\n",
       "        vertical-align: top;\n",
       "    }\n",
       "\n",
       "    .dataframe thead th {\n",
       "        text-align: right;\n",
       "    }\n",
       "</style>\n",
       "<table border=\"1\" class=\"dataframe\">\n",
       "  <thead>\n",
       "    <tr style=\"text-align: right;\">\n",
       "      <th></th>\n",
       "      <th>userID</th>\n",
       "      <th>placeID</th>\n",
       "      <th>rating</th>\n",
       "      <th>food_rating</th>\n",
       "      <th>service_rating</th>\n",
       "    </tr>\n",
       "  </thead>\n",
       "  <tbody>\n",
       "    <tr>\n",
       "      <th>0</th>\n",
       "      <td>U1077</td>\n",
       "      <td>135085</td>\n",
       "      <td>2</td>\n",
       "      <td>2</td>\n",
       "      <td>2</td>\n",
       "    </tr>\n",
       "    <tr>\n",
       "      <th>1</th>\n",
       "      <td>U1077</td>\n",
       "      <td>135038</td>\n",
       "      <td>2</td>\n",
       "      <td>2</td>\n",
       "      <td>1</td>\n",
       "    </tr>\n",
       "    <tr>\n",
       "      <th>2</th>\n",
       "      <td>U1077</td>\n",
       "      <td>132825</td>\n",
       "      <td>2</td>\n",
       "      <td>2</td>\n",
       "      <td>2</td>\n",
       "    </tr>\n",
       "    <tr>\n",
       "      <th>3</th>\n",
       "      <td>U1077</td>\n",
       "      <td>135060</td>\n",
       "      <td>1</td>\n",
       "      <td>2</td>\n",
       "      <td>2</td>\n",
       "    </tr>\n",
       "    <tr>\n",
       "      <th>4</th>\n",
       "      <td>U1068</td>\n",
       "      <td>135104</td>\n",
       "      <td>1</td>\n",
       "      <td>1</td>\n",
       "      <td>2</td>\n",
       "    </tr>\n",
       "    <tr>\n",
       "      <th>...</th>\n",
       "      <td>...</td>\n",
       "      <td>...</td>\n",
       "      <td>...</td>\n",
       "      <td>...</td>\n",
       "      <td>...</td>\n",
       "    </tr>\n",
       "    <tr>\n",
       "      <th>1156</th>\n",
       "      <td>U1043</td>\n",
       "      <td>132630</td>\n",
       "      <td>1</td>\n",
       "      <td>1</td>\n",
       "      <td>1</td>\n",
       "    </tr>\n",
       "    <tr>\n",
       "      <th>1157</th>\n",
       "      <td>U1011</td>\n",
       "      <td>132715</td>\n",
       "      <td>1</td>\n",
       "      <td>1</td>\n",
       "      <td>0</td>\n",
       "    </tr>\n",
       "    <tr>\n",
       "      <th>1158</th>\n",
       "      <td>U1068</td>\n",
       "      <td>132733</td>\n",
       "      <td>1</td>\n",
       "      <td>1</td>\n",
       "      <td>0</td>\n",
       "    </tr>\n",
       "    <tr>\n",
       "      <th>1159</th>\n",
       "      <td>U1068</td>\n",
       "      <td>132594</td>\n",
       "      <td>1</td>\n",
       "      <td>1</td>\n",
       "      <td>1</td>\n",
       "    </tr>\n",
       "    <tr>\n",
       "      <th>1160</th>\n",
       "      <td>U1068</td>\n",
       "      <td>132660</td>\n",
       "      <td>0</td>\n",
       "      <td>0</td>\n",
       "      <td>0</td>\n",
       "    </tr>\n",
       "  </tbody>\n",
       "</table>\n",
       "<p>1161 rows × 5 columns</p>\n",
       "</div>"
      ],
      "text/plain": [
       "     userID  placeID  rating  food_rating  service_rating\n",
       "0     U1077   135085       2            2               2\n",
       "1     U1077   135038       2            2               1\n",
       "2     U1077   132825       2            2               2\n",
       "3     U1077   135060       1            2               2\n",
       "4     U1068   135104       1            1               2\n",
       "...     ...      ...     ...          ...             ...\n",
       "1156  U1043   132630       1            1               1\n",
       "1157  U1011   132715       1            1               0\n",
       "1158  U1068   132733       1            1               0\n",
       "1159  U1068   132594       1            1               1\n",
       "1160  U1068   132660       0            0               0\n",
       "\n",
       "[1161 rows x 5 columns]"
      ]
     },
     "execution_count": 4,
     "metadata": {},
     "output_type": "execute_result"
    }
   ],
   "source": [
    "ratings"
   ]
  },
  {
   "cell_type": "code",
   "execution_count": 5,
   "id": "c344ae55",
   "metadata": {},
   "outputs": [
    {
     "data": {
      "text/html": [
       "<div>\n",
       "<style scoped>\n",
       "    .dataframe tbody tr th:only-of-type {\n",
       "        vertical-align: middle;\n",
       "    }\n",
       "\n",
       "    .dataframe tbody tr th {\n",
       "        vertical-align: top;\n",
       "    }\n",
       "\n",
       "    .dataframe thead th {\n",
       "        text-align: right;\n",
       "    }\n",
       "</style>\n",
       "<table border=\"1\" class=\"dataframe\">\n",
       "  <thead>\n",
       "    <tr style=\"text-align: right;\">\n",
       "      <th></th>\n",
       "      <th>placeID</th>\n",
       "      <th>Rcuisine</th>\n",
       "    </tr>\n",
       "  </thead>\n",
       "  <tbody>\n",
       "    <tr>\n",
       "      <th>0</th>\n",
       "      <td>135110</td>\n",
       "      <td>Spanish</td>\n",
       "    </tr>\n",
       "    <tr>\n",
       "      <th>1</th>\n",
       "      <td>135109</td>\n",
       "      <td>Italian</td>\n",
       "    </tr>\n",
       "    <tr>\n",
       "      <th>2</th>\n",
       "      <td>135107</td>\n",
       "      <td>Latin_American</td>\n",
       "    </tr>\n",
       "    <tr>\n",
       "      <th>3</th>\n",
       "      <td>135106</td>\n",
       "      <td>Mexican</td>\n",
       "    </tr>\n",
       "    <tr>\n",
       "      <th>4</th>\n",
       "      <td>135105</td>\n",
       "      <td>Fast_Food</td>\n",
       "    </tr>\n",
       "    <tr>\n",
       "      <th>...</th>\n",
       "      <td>...</td>\n",
       "      <td>...</td>\n",
       "    </tr>\n",
       "    <tr>\n",
       "      <th>911</th>\n",
       "      <td>132005</td>\n",
       "      <td>Seafood</td>\n",
       "    </tr>\n",
       "    <tr>\n",
       "      <th>912</th>\n",
       "      <td>132004</td>\n",
       "      <td>Seafood</td>\n",
       "    </tr>\n",
       "    <tr>\n",
       "      <th>913</th>\n",
       "      <td>132003</td>\n",
       "      <td>International</td>\n",
       "    </tr>\n",
       "    <tr>\n",
       "      <th>914</th>\n",
       "      <td>132002</td>\n",
       "      <td>Seafood</td>\n",
       "    </tr>\n",
       "    <tr>\n",
       "      <th>915</th>\n",
       "      <td>132001</td>\n",
       "      <td>Dutch-Belgian</td>\n",
       "    </tr>\n",
       "  </tbody>\n",
       "</table>\n",
       "<p>916 rows × 2 columns</p>\n",
       "</div>"
      ],
      "text/plain": [
       "     placeID        Rcuisine\n",
       "0     135110         Spanish\n",
       "1     135109         Italian\n",
       "2     135107  Latin_American\n",
       "3     135106         Mexican\n",
       "4     135105       Fast_Food\n",
       "..       ...             ...\n",
       "911   132005         Seafood\n",
       "912   132004         Seafood\n",
       "913   132003   International\n",
       "914   132002         Seafood\n",
       "915   132001   Dutch-Belgian\n",
       "\n",
       "[916 rows x 2 columns]"
      ]
     },
     "execution_count": 5,
     "metadata": {},
     "output_type": "execute_result"
    }
   ],
   "source": [
    "cuisine"
   ]
  },
  {
   "cell_type": "markdown",
   "id": "80374269",
   "metadata": {},
   "source": [
    "### Finding Most Rated Restaurants"
   ]
  },
  {
   "cell_type": "code",
   "execution_count": 5,
   "id": "e1379e31",
   "metadata": {},
   "outputs": [
    {
     "data": {
      "text/html": [
       "<div>\n",
       "<style scoped>\n",
       "    .dataframe tbody tr th:only-of-type {\n",
       "        vertical-align: middle;\n",
       "    }\n",
       "\n",
       "    .dataframe tbody tr th {\n",
       "        vertical-align: top;\n",
       "    }\n",
       "\n",
       "    .dataframe thead th {\n",
       "        text-align: right;\n",
       "    }\n",
       "</style>\n",
       "<table border=\"1\" class=\"dataframe\">\n",
       "  <thead>\n",
       "    <tr style=\"text-align: right;\">\n",
       "      <th></th>\n",
       "      <th>rating</th>\n",
       "    </tr>\n",
       "    <tr>\n",
       "      <th>placeID</th>\n",
       "      <th></th>\n",
       "    </tr>\n",
       "  </thead>\n",
       "  <tbody>\n",
       "    <tr>\n",
       "      <th>135085</th>\n",
       "      <td>36</td>\n",
       "    </tr>\n",
       "    <tr>\n",
       "      <th>132825</th>\n",
       "      <td>32</td>\n",
       "    </tr>\n",
       "    <tr>\n",
       "      <th>135032</th>\n",
       "      <td>28</td>\n",
       "    </tr>\n",
       "    <tr>\n",
       "      <th>135052</th>\n",
       "      <td>25</td>\n",
       "    </tr>\n",
       "    <tr>\n",
       "      <th>132834</th>\n",
       "      <td>25</td>\n",
       "    </tr>\n",
       "  </tbody>\n",
       "</table>\n",
       "</div>"
      ],
      "text/plain": [
       "         rating\n",
       "placeID        \n",
       "135085       36\n",
       "132825       32\n",
       "135032       28\n",
       "135052       25\n",
       "132834       25"
      ]
     },
     "execution_count": 5,
     "metadata": {},
     "output_type": "execute_result"
    }
   ],
   "source": [
    "# group ratings data by unique restaurants and find the count of ratings for each restaurant\n",
    "rating_count = pd.DataFrame(ratings.groupby('placeID')['rating'].count())\n",
    "\n",
    "# Sort data to get most rated restaurants on top\n",
    "rating_count.sort_values('rating', ascending=False, inplace=True)\n",
    "\n",
    "rating_count.head()"
   ]
  },
  {
   "cell_type": "markdown",
   "id": "6a08dc27",
   "metadata": {},
   "source": [
    "### Matching Cuisines of most rated Restaurants"
   ]
  },
  {
   "cell_type": "code",
   "execution_count": 6,
   "id": "e9a2531a",
   "metadata": {},
   "outputs": [],
   "source": [
    "# Taking top 5 most rated restaurants from rating_count data frame and merging then with cuisine join with 'placeID'\n",
    "to_recommend = pd.merge(rating_count.iloc[:5], cuisine, on='placeID')"
   ]
  },
  {
   "cell_type": "code",
   "execution_count": 7,
   "id": "f12da2f0",
   "metadata": {},
   "outputs": [],
   "source": [
    "to_recommend.drop('rating',axis=1, inplace=True)\n"
   ]
  },
  {
   "cell_type": "markdown",
   "id": "18a363ca",
   "metadata": {},
   "source": [
    "Below is the list of most rated Restaurants and the cuisine they surve"
   ]
  },
  {
   "cell_type": "code",
   "execution_count": 10,
   "id": "2391466d",
   "metadata": {},
   "outputs": [
    {
     "data": {
      "text/html": [
       "<div>\n",
       "<style scoped>\n",
       "    .dataframe tbody tr th:only-of-type {\n",
       "        vertical-align: middle;\n",
       "    }\n",
       "\n",
       "    .dataframe tbody tr th {\n",
       "        vertical-align: top;\n",
       "    }\n",
       "\n",
       "    .dataframe thead th {\n",
       "        text-align: right;\n",
       "    }\n",
       "</style>\n",
       "<table border=\"1\" class=\"dataframe\">\n",
       "  <thead>\n",
       "    <tr style=\"text-align: right;\">\n",
       "      <th></th>\n",
       "      <th>placeID</th>\n",
       "      <th>Rcuisine</th>\n",
       "    </tr>\n",
       "  </thead>\n",
       "  <tbody>\n",
       "    <tr>\n",
       "      <th>0</th>\n",
       "      <td>135085</td>\n",
       "      <td>Fast_Food</td>\n",
       "    </tr>\n",
       "    <tr>\n",
       "      <th>1</th>\n",
       "      <td>132825</td>\n",
       "      <td>Mexican</td>\n",
       "    </tr>\n",
       "    <tr>\n",
       "      <th>2</th>\n",
       "      <td>135032</td>\n",
       "      <td>Cafeteria</td>\n",
       "    </tr>\n",
       "    <tr>\n",
       "      <th>3</th>\n",
       "      <td>135032</td>\n",
       "      <td>Contemporary</td>\n",
       "    </tr>\n",
       "    <tr>\n",
       "      <th>4</th>\n",
       "      <td>135052</td>\n",
       "      <td>Bar</td>\n",
       "    </tr>\n",
       "    <tr>\n",
       "      <th>5</th>\n",
       "      <td>135052</td>\n",
       "      <td>Bar_Pub_Brewery</td>\n",
       "    </tr>\n",
       "    <tr>\n",
       "      <th>6</th>\n",
       "      <td>132834</td>\n",
       "      <td>Mexican</td>\n",
       "    </tr>\n",
       "  </tbody>\n",
       "</table>\n",
       "</div>"
      ],
      "text/plain": [
       "   placeID         Rcuisine\n",
       "0   135085        Fast_Food\n",
       "1   132825          Mexican\n",
       "2   135032        Cafeteria\n",
       "3   135032     Contemporary\n",
       "4   135052              Bar\n",
       "5   135052  Bar_Pub_Brewery\n",
       "6   132834          Mexican"
      ]
     },
     "execution_count": 10,
     "metadata": {},
     "output_type": "execute_result"
    }
   ],
   "source": [
    "to_recommend"
   ]
  },
  {
   "cell_type": "code",
   "execution_count": 9,
   "id": "1b32c05c",
   "metadata": {},
   "outputs": [
    {
     "data": {
      "text/plain": [
       "count         916\n",
       "unique         59\n",
       "top       Mexican\n",
       "freq          239\n",
       "Name: Rcuisine, dtype: object"
      ]
     },
     "execution_count": 9,
     "metadata": {},
     "output_type": "execute_result"
    }
   ],
   "source": [
    "cuisine['Rcuisine'].describe()"
   ]
  },
  {
   "cell_type": "markdown",
   "id": "e5482842",
   "metadata": {},
   "source": [
    "Here in the description of cuisines of Restaurants we see that Mexican is the most appearing Cuisine"
   ]
  },
  {
   "cell_type": "markdown",
   "id": "6a3684be",
   "metadata": {},
   "source": [
    "### Making Recommendation"
   ]
  },
  {
   "cell_type": "markdown",
   "id": "b0f71cb5",
   "metadata": {},
   "source": [
    "As we have a list of most rated restaurants and we know mexican is the most frequent cuisine. We can recommend it"
   ]
  },
  {
   "cell_type": "code",
   "execution_count": 12,
   "id": "7154efcd",
   "metadata": {},
   "outputs": [
    {
     "data": {
      "text/html": [
       "<div>\n",
       "<style scoped>\n",
       "    .dataframe tbody tr th:only-of-type {\n",
       "        vertical-align: middle;\n",
       "    }\n",
       "\n",
       "    .dataframe tbody tr th {\n",
       "        vertical-align: top;\n",
       "    }\n",
       "\n",
       "    .dataframe thead th {\n",
       "        text-align: right;\n",
       "    }\n",
       "</style>\n",
       "<table border=\"1\" class=\"dataframe\">\n",
       "  <thead>\n",
       "    <tr style=\"text-align: right;\">\n",
       "      <th></th>\n",
       "      <th>placeID</th>\n",
       "      <th>Rcuisine</th>\n",
       "    </tr>\n",
       "  </thead>\n",
       "  <tbody>\n",
       "    <tr>\n",
       "      <th>1</th>\n",
       "      <td>132825</td>\n",
       "      <td>Mexican</td>\n",
       "    </tr>\n",
       "    <tr>\n",
       "      <th>6</th>\n",
       "      <td>132834</td>\n",
       "      <td>Mexican</td>\n",
       "    </tr>\n",
       "  </tbody>\n",
       "</table>\n",
       "</div>"
      ],
      "text/plain": [
       "   placeID Rcuisine\n",
       "1   132825  Mexican\n",
       "6   132834  Mexican"
      ]
     },
     "execution_count": 12,
     "metadata": {},
     "output_type": "execute_result"
    }
   ],
   "source": [
    "to_recommend.query(\"Rcuisine == 'Mexican'\")"
   ]
  },
  {
   "cell_type": "markdown",
   "id": "2b290edc",
   "metadata": {},
   "source": [
    "We can recommend these two Restaurants!!!!"
   ]
  }
 ],
 "metadata": {
  "kernelspec": {
   "display_name": "Python 3 (ipykernel)",
   "language": "python",
   "name": "python3"
  },
  "language_info": {
   "codemirror_mode": {
    "name": "ipython",
    "version": 3
   },
   "file_extension": ".py",
   "mimetype": "text/x-python",
   "name": "python",
   "nbconvert_exporter": "python",
   "pygments_lexer": "ipython3",
   "version": "3.9.12"
  }
 },
 "nbformat": 4,
 "nbformat_minor": 5
}
